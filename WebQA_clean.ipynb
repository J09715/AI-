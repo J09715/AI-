{
 "cells": [
  {
   "cell_type": "code",
   "execution_count": 1,
   "id": "25cbcd57",
   "metadata": {},
   "outputs": [],
   "source": [
    "import json\n",
    "import re\n"
   ]
  },
  {
   "cell_type": "code",
   "execution_count": 2,
   "id": "3d2c1708",
   "metadata": {},
   "outputs": [],
   "source": [
    "def load_json(json_file):\n",
    "    with open(json_file, 'r', encoding='utf-8') as file:\n",
    "        data = json.load(file)\n",
    "    return data\n",
    "\n",
    "def save_jsonl(data, jsonl_file):\n",
    "    with open(jsonl_file, 'w', encoding='utf-8') as file:\n",
    "        for entry in data:\n",
    "            json.dump(entry, file, ensure_ascii=False)\n",
    "            file.write('\\n')\n",
    "\n",
    "def save_json(data, json_file):\n",
    "    with open(json_file, 'w', encoding='utf-8') as file:\n",
    "        json.dump(data, file, ensure_ascii=False)"
   ]
  },
  {
   "cell_type": "code",
   "execution_count": 10,
   "id": "bea853e5",
   "metadata": {},
   "outputs": [],
   "source": [
    "json_file = 'me_train.json'\n",
    "new_json_file = 'KD_train.json'\n",
    "new_jsonl_file = 'KD_train.jsonl'\n",
    "\n",
    "data = load_json(json_file)\n",
    "json_no = list(data.keys())\n",
    "data_clean = []\n",
    "for q in json_no:\n",
    "    question = data[q]['question']\n",
    "    answer_dic = data[q]['evidences']\n",
    "    for i in range(len(answer_dic.keys())):\n",
    "        if i < 10:\n",
    "            no = '#0'\n",
    "        else:\n",
    "            no = '#'\n",
    "        answer = answer_dic[q+no+str(i)]['answer']\n",
    "        evidence = answer_dic[q+no+str(i)]['evidence']\n",
    "\n",
    "        if any(re.search(answer_single, evidence) for answer_single in answer):\n",
    "            tmp = {}\n",
    "            tmp[\"question\"] = question\n",
    "            tmp[\"answer\"] = answer\n",
    "            tmp[\"evidence\"] = evidence\n",
    "            data_clean.append(tmp)\n",
    "\n",
    "save_jsonl(data_clean, new_jsonl_file)\n",
    "save_json(data_clean, new_json_file)"
   ]
  },
  {
   "cell_type": "code",
   "execution_count": 11,
   "id": "b566bf68",
   "metadata": {},
   "outputs": [],
   "source": [
    "data = load_json('KD_train.json')"
   ]
  },
  {
   "cell_type": "code",
   "execution_count": 12,
   "id": "b2552fbf",
   "metadata": {},
   "outputs": [
    {
     "data": {
      "text/plain": [
       "140878"
      ]
     },
     "execution_count": 12,
     "metadata": {},
     "output_type": "execute_result"
    }
   ],
   "source": [
    "len(data)"
   ]
  },
  {
   "cell_type": "code",
   "execution_count": null,
   "id": "0e21c3be",
   "metadata": {},
   "outputs": [],
   "source": []
  }
 ],
 "metadata": {
  "kernelspec": {
   "display_name": "Python 3 (ipykernel)",
   "language": "python",
   "name": "python3"
  },
  "language_info": {
   "codemirror_mode": {
    "name": "ipython",
    "version": 3
   },
   "file_extension": ".py",
   "mimetype": "text/x-python",
   "name": "python",
   "nbconvert_exporter": "python",
   "pygments_lexer": "ipython3",
   "version": "3.11.3"
  }
 },
 "nbformat": 4,
 "nbformat_minor": 5
}
