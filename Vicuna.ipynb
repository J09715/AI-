{
 "cells": [
  {
   "cell_type": "code",
   "execution_count": 1,
   "id": "982832fd",
   "metadata": {},
   "outputs": [],
   "source": [
    "import KnowledgeDAO as kd\n",
    "\n",
    "load_file_name = 'Vicuna.json'\n",
    "#save_json_file_name = 'output.json'\n",
    "save_jsonl_file_name = 'Vicuna.jsonl'\n",
    "\n",
    "data = kd.load_json(load_file_name)"
   ]
  },
  {
   "cell_type": "code",
   "execution_count": 3,
   "id": "a78af1a3",
   "metadata": {},
   "outputs": [],
   "source": [
    "kd.save_jsonl(data,save_jsonl_file_name)"
   ]
  },
  {
   "cell_type": "code",
   "execution_count": 5,
   "id": "1e21f829",
   "metadata": {},
   "outputs": [
    {
     "name": "stdout",
     "output_type": "stream",
     "text": [
      "88848744\n"
     ]
    }
   ],
   "source": [
    "count = kd.count_chinese_chars(save_jsonl_file_name)\n",
    "print(count)"
   ]
  },
  {
   "cell_type": "code",
   "execution_count": null,
   "id": "ed5b2d1a",
   "metadata": {},
   "outputs": [],
   "source": [
    "# Vicuna中文数据集\n",
    "Chinese-Vicuna中文数据集，token总数177.7M（汉字数：88848744）。"
   ]
  },
  {
   "cell_type": "code",
   "execution_count": 2,
   "id": "47f95e41",
   "metadata": {},
   "outputs": [
    {
     "name": "stdout",
     "output_type": "stream",
     "text": [
      "{'instruction': '用一句话描述地球为什么是独一无二的。\\\\n\\n', 'input': '', 'output': '地球上有适宜生命存在的条件和多样化的生命形式。'}\n"
     ]
    }
   ],
   "source": [
    "print(data[0])"
   ]
  },
  {
   "cell_type": "code",
   "execution_count": 3,
   "id": "7160faf6",
   "metadata": {},
   "outputs": [
    {
     "data": {
      "text/plain": [
       "693987"
      ]
     },
     "execution_count": 3,
     "metadata": {},
     "output_type": "execute_result"
    }
   ],
   "source": [
    "len(data)"
   ]
  },
  {
   "cell_type": "code",
   "execution_count": null,
   "id": "f982491a",
   "metadata": {},
   "outputs": [],
   "source": []
  }
 ],
 "metadata": {
  "kernelspec": {
   "display_name": "Python 3 (ipykernel)",
   "language": "python",
   "name": "python3"
  },
  "language_info": {
   "codemirror_mode": {
    "name": "ipython",
    "version": 3
   },
   "file_extension": ".py",
   "mimetype": "text/x-python",
   "name": "python",
   "nbconvert_exporter": "python",
   "pygments_lexer": "ipython3",
   "version": "3.11.3"
  }
 },
 "nbformat": 4,
 "nbformat_minor": 5
}
